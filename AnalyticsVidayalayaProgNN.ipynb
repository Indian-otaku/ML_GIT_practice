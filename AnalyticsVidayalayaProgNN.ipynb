{
  "nbformat": 4,
  "nbformat_minor": 0,
  "metadata": {
    "colab": {
      "provenance": [],
      "gpuType": "T4",
      "authorship_tag": "ABX9TyPpFyASiORbvxPv5gBajX0k",
      "include_colab_link": true
    },
    "kernelspec": {
      "name": "python3",
      "display_name": "Python 3"
    },
    "language_info": {
      "name": "python"
    },
    "accelerator": "GPU"
  },
  "cells": [
    {
      "cell_type": "markdown",
      "metadata": {
        "id": "view-in-github",
        "colab_type": "text"
      },
      "source": [
        "<a href=\"https://colab.research.google.com/github/Indian-otaku/ML_GIT_practice/blob/main/AnalyticsVidayalayaProgNN.ipynb\" target=\"_parent\"><img src=\"https://colab.research.google.com/assets/colab-badge.svg\" alt=\"Open In Colab\"/></a>"
      ]
    },
    {
      "cell_type": "code",
      "execution_count": null,
      "metadata": {
        "id": "jwnI-yxvMEEd"
      },
      "outputs": [],
      "source": [
        "import numpy as np\n",
        "import pandas as pd\n",
        "import matplotlib.pyplot as plt\n",
        "import seaborn as sns\n",
        "import warnings"
      ]
    },
    {
      "cell_type": "code",
      "source": [
        "train_data = pd.read_csv(\"./train.csv\")\n",
        "test_data = pd.read_csv(\"./test.csv\")\n",
        "submission_data = pd.read_csv(\"./sample_submission.csv\")"
      ],
      "metadata": {
        "id": "hVPVf9P5Mkgw"
      },
      "execution_count": null,
      "outputs": []
    },
    {
      "cell_type": "code",
      "source": [
        "X = train_data.drop([\"Loan_ID\", \"Loan_Status\"], axis=1)\n",
        "y = train_data[\"Loan_Status\"]\n",
        "X_test = test_data.drop(\"Loan_ID\", axis=1)"
      ],
      "metadata": {
        "id": "G7TwuBwSM35w"
      },
      "execution_count": null,
      "outputs": []
    },
    {
      "cell_type": "code",
      "source": [
        "num_cols = [\"ApplicantIncome\", \"CoapplicantIncome\", \"LoanAmount\", \"Loan_Amount_Term\"]\n",
        "cat_cols = [\n",
        "    \"Gender\",\n",
        "    \"Married\",\n",
        "    \"Dependents\",\n",
        "    \"Education\",\n",
        "    \"Self_Employed\",\n",
        "    \"Property_Area\",\n",
        "    \"Credit_History\",\n",
        "]"
      ],
      "metadata": {
        "id": "Gw49QUxyM_h5"
      },
      "execution_count": null,
      "outputs": []
    },
    {
      "cell_type": "code",
      "source": [
        "from sklearn.preprocessing import LabelEncoder\n",
        "le = LabelEncoder()\n",
        "y = le.fit_transform(y)"
      ],
      "metadata": {
        "id": "qJvKhGtdND8h"
      },
      "execution_count": null,
      "outputs": []
    },
    {
      "cell_type": "code",
      "source": [
        "from sklearn.impute import KNNImputer\n",
        "\n",
        "knnimp = KNNImputer()\n",
        "X[num_cols] = knnimp.fit_transform(X[num_cols])\n",
        "X_test[num_cols] = knnimp.transform(X_test[num_cols])"
      ],
      "metadata": {
        "id": "fKZrJW0zORAl"
      },
      "execution_count": null,
      "outputs": []
    },
    {
      "cell_type": "code",
      "source": [
        "from sklearn.impute import SimpleImputer\n",
        "\n",
        "si = SimpleImputer(strategy=\"constant\", fill_value=\"missing\")\n",
        "X[cat_cols] = si.fit_transform(X[cat_cols])\n",
        "X_test[cat_cols] = si.transform(X_test[cat_cols])"
      ],
      "metadata": {
        "id": "7uk53LKcOX76"
      },
      "execution_count": null,
      "outputs": []
    },
    {
      "cell_type": "code",
      "source": [
        "X[\"ApplicantIncomeByLoanAmount\"] = X[\"ApplicantIncome\"] / X[\"LoanAmount\"]\n",
        "X[\"CoapplicantIncomeByLoadAmount\"] = X[\"CoapplicantIncome\"] / X[\"LoanAmount\"]\n",
        "X[\"LoanAmountByLoanAmountTerm\"] = X[\"LoanAmount\"] / X[\"Loan_Amount_Term\"]\n",
        "X.drop([\"ApplicantIncome\", \"CoapplicantIncome\", \"LoanAmount\", \"Loan_Amount_Term\"], axis=1, inplace=True)\n",
        "\n",
        "X_test[\"ApplicantIncomeByLoanAmount\"] = X_test[\"ApplicantIncome\"] / X_test[\"LoanAmount\"]\n",
        "X_test[\"CoapplicantIncomeByLoadAmount\"] = X_test[\"CoapplicantIncome\"] / X_test[\"LoanAmount\"]\n",
        "X_test[\"LoanAmountByLoanAmountTerm\"] = X_test[\"LoanAmount\"] / X_test[\"Loan_Amount_Term\"]\n",
        "X_test.drop([\"ApplicantIncome\", \"CoapplicantIncome\", \"LoanAmount\", \"Loan_Amount_Term\"], axis=1, inplace=True)"
      ],
      "metadata": {
        "id": "GR2n2a0POX-G"
      },
      "execution_count": null,
      "outputs": []
    },
    {
      "cell_type": "code",
      "source": [
        "X[cat_cols] = X[cat_cols].astype(str)\n",
        "X_test[cat_cols] = X_test[cat_cols].astype(str)"
      ],
      "metadata": {
        "id": "FXrlahoSOYBe"
      },
      "execution_count": null,
      "outputs": []
    },
    {
      "cell_type": "code",
      "source": [
        "from sklearn.preprocessing import OneHotEncoder\n",
        "\n",
        "ohe = OneHotEncoder(sparse_output=False, handle_unknown='ignore', drop=\"first\")\n",
        "X_ohe = pd.DataFrame(\n",
        "    ohe.fit_transform(X[cat_cols]), \n",
        "    index=X.index, \n",
        "    columns=ohe.get_feature_names_out()\n",
        ")\n",
        "X_test_ohe = pd.DataFrame(\n",
        "    ohe.transform(X_test[cat_cols]),\n",
        "    index=X_test.index, \n",
        "        columns=ohe.get_feature_names_out()\n",
        ")"
      ],
      "metadata": {
        "id": "yl3UIjZHOm7t"
      },
      "execution_count": null,
      "outputs": []
    },
    {
      "cell_type": "code",
      "source": [
        "X = X.join(X_ohe)\n",
        "X_test = X_test.join(X_test_ohe)\n",
        "\n",
        "X.drop(list(cat_cols), axis=1, inplace=True)\n",
        "X_test.drop(list(cat_cols), axis=1, inplace=True)"
      ],
      "metadata": {
        "id": "KoWB8jENOo_i"
      },
      "execution_count": null,
      "outputs": []
    },
    {
      "cell_type": "code",
      "source": [
        "X.head()"
      ],
      "metadata": {
        "colab": {
          "base_uri": "https://localhost:8080/",
          "height": 287
        },
        "id": "15Q9J4VqO8K2",
        "outputId": "7da40f30-951e-4691-b7bb-aca05eca064f"
      },
      "execution_count": null,
      "outputs": [
        {
          "output_type": "execute_result",
          "data": {
            "text/plain": [
              "   ApplicantIncomeByLoanAmount  CoapplicantIncomeByLoadAmount  \\\n",
              "0                    39.573748                        0.00000   \n",
              "1                    35.804688                       11.78125   \n",
              "2                    45.454545                        0.00000   \n",
              "3                    21.525000                       19.65000   \n",
              "4                    42.553191                        0.00000   \n",
              "\n",
              "   LoanAmountByLoanAmountTerm  Gender_Male  Gender_missing  Married_Yes  \\\n",
              "0                    0.410556          1.0             0.0          0.0   \n",
              "1                    0.355556          1.0             0.0          1.0   \n",
              "2                    0.183333          1.0             0.0          1.0   \n",
              "3                    0.333333          1.0             0.0          1.0   \n",
              "4                    0.391667          1.0             0.0          0.0   \n",
              "\n",
              "   Married_missing  Dependents_1  Dependents_2  Dependents_3+  \\\n",
              "0              0.0           0.0           0.0            0.0   \n",
              "1              0.0           1.0           0.0            0.0   \n",
              "2              0.0           0.0           0.0            0.0   \n",
              "3              0.0           0.0           0.0            0.0   \n",
              "4              0.0           0.0           0.0            0.0   \n",
              "\n",
              "   Dependents_missing  Education_Not Graduate  Self_Employed_Yes  \\\n",
              "0                 0.0                     0.0                0.0   \n",
              "1                 0.0                     0.0                0.0   \n",
              "2                 0.0                     0.0                1.0   \n",
              "3                 0.0                     1.0                0.0   \n",
              "4                 0.0                     0.0                0.0   \n",
              "\n",
              "   Self_Employed_missing  Property_Area_Semiurban  Property_Area_Urban  \\\n",
              "0                    0.0                      0.0                  1.0   \n",
              "1                    0.0                      0.0                  0.0   \n",
              "2                    0.0                      0.0                  1.0   \n",
              "3                    0.0                      0.0                  1.0   \n",
              "4                    0.0                      0.0                  1.0   \n",
              "\n",
              "   Credit_History_1.0  Credit_History_missing  \n",
              "0                 1.0                     0.0  \n",
              "1                 1.0                     0.0  \n",
              "2                 1.0                     0.0  \n",
              "3                 1.0                     0.0  \n",
              "4                 1.0                     0.0  "
            ],
            "text/html": [
              "\n",
              "  <div id=\"df-9d0072c9-0b3c-49cc-8974-7ba8d99e51a8\">\n",
              "    <div class=\"colab-df-container\">\n",
              "      <div>\n",
              "<style scoped>\n",
              "    .dataframe tbody tr th:only-of-type {\n",
              "        vertical-align: middle;\n",
              "    }\n",
              "\n",
              "    .dataframe tbody tr th {\n",
              "        vertical-align: top;\n",
              "    }\n",
              "\n",
              "    .dataframe thead th {\n",
              "        text-align: right;\n",
              "    }\n",
              "</style>\n",
              "<table border=\"1\" class=\"dataframe\">\n",
              "  <thead>\n",
              "    <tr style=\"text-align: right;\">\n",
              "      <th></th>\n",
              "      <th>ApplicantIncomeByLoanAmount</th>\n",
              "      <th>CoapplicantIncomeByLoadAmount</th>\n",
              "      <th>LoanAmountByLoanAmountTerm</th>\n",
              "      <th>Gender_Male</th>\n",
              "      <th>Gender_missing</th>\n",
              "      <th>Married_Yes</th>\n",
              "      <th>Married_missing</th>\n",
              "      <th>Dependents_1</th>\n",
              "      <th>Dependents_2</th>\n",
              "      <th>Dependents_3+</th>\n",
              "      <th>Dependents_missing</th>\n",
              "      <th>Education_Not Graduate</th>\n",
              "      <th>Self_Employed_Yes</th>\n",
              "      <th>Self_Employed_missing</th>\n",
              "      <th>Property_Area_Semiurban</th>\n",
              "      <th>Property_Area_Urban</th>\n",
              "      <th>Credit_History_1.0</th>\n",
              "      <th>Credit_History_missing</th>\n",
              "    </tr>\n",
              "  </thead>\n",
              "  <tbody>\n",
              "    <tr>\n",
              "      <th>0</th>\n",
              "      <td>39.573748</td>\n",
              "      <td>0.00000</td>\n",
              "      <td>0.410556</td>\n",
              "      <td>1.0</td>\n",
              "      <td>0.0</td>\n",
              "      <td>0.0</td>\n",
              "      <td>0.0</td>\n",
              "      <td>0.0</td>\n",
              "      <td>0.0</td>\n",
              "      <td>0.0</td>\n",
              "      <td>0.0</td>\n",
              "      <td>0.0</td>\n",
              "      <td>0.0</td>\n",
              "      <td>0.0</td>\n",
              "      <td>0.0</td>\n",
              "      <td>1.0</td>\n",
              "      <td>1.0</td>\n",
              "      <td>0.0</td>\n",
              "    </tr>\n",
              "    <tr>\n",
              "      <th>1</th>\n",
              "      <td>35.804688</td>\n",
              "      <td>11.78125</td>\n",
              "      <td>0.355556</td>\n",
              "      <td>1.0</td>\n",
              "      <td>0.0</td>\n",
              "      <td>1.0</td>\n",
              "      <td>0.0</td>\n",
              "      <td>1.0</td>\n",
              "      <td>0.0</td>\n",
              "      <td>0.0</td>\n",
              "      <td>0.0</td>\n",
              "      <td>0.0</td>\n",
              "      <td>0.0</td>\n",
              "      <td>0.0</td>\n",
              "      <td>0.0</td>\n",
              "      <td>0.0</td>\n",
              "      <td>1.0</td>\n",
              "      <td>0.0</td>\n",
              "    </tr>\n",
              "    <tr>\n",
              "      <th>2</th>\n",
              "      <td>45.454545</td>\n",
              "      <td>0.00000</td>\n",
              "      <td>0.183333</td>\n",
              "      <td>1.0</td>\n",
              "      <td>0.0</td>\n",
              "      <td>1.0</td>\n",
              "      <td>0.0</td>\n",
              "      <td>0.0</td>\n",
              "      <td>0.0</td>\n",
              "      <td>0.0</td>\n",
              "      <td>0.0</td>\n",
              "      <td>0.0</td>\n",
              "      <td>1.0</td>\n",
              "      <td>0.0</td>\n",
              "      <td>0.0</td>\n",
              "      <td>1.0</td>\n",
              "      <td>1.0</td>\n",
              "      <td>0.0</td>\n",
              "    </tr>\n",
              "    <tr>\n",
              "      <th>3</th>\n",
              "      <td>21.525000</td>\n",
              "      <td>19.65000</td>\n",
              "      <td>0.333333</td>\n",
              "      <td>1.0</td>\n",
              "      <td>0.0</td>\n",
              "      <td>1.0</td>\n",
              "      <td>0.0</td>\n",
              "      <td>0.0</td>\n",
              "      <td>0.0</td>\n",
              "      <td>0.0</td>\n",
              "      <td>0.0</td>\n",
              "      <td>1.0</td>\n",
              "      <td>0.0</td>\n",
              "      <td>0.0</td>\n",
              "      <td>0.0</td>\n",
              "      <td>1.0</td>\n",
              "      <td>1.0</td>\n",
              "      <td>0.0</td>\n",
              "    </tr>\n",
              "    <tr>\n",
              "      <th>4</th>\n",
              "      <td>42.553191</td>\n",
              "      <td>0.00000</td>\n",
              "      <td>0.391667</td>\n",
              "      <td>1.0</td>\n",
              "      <td>0.0</td>\n",
              "      <td>0.0</td>\n",
              "      <td>0.0</td>\n",
              "      <td>0.0</td>\n",
              "      <td>0.0</td>\n",
              "      <td>0.0</td>\n",
              "      <td>0.0</td>\n",
              "      <td>0.0</td>\n",
              "      <td>0.0</td>\n",
              "      <td>0.0</td>\n",
              "      <td>0.0</td>\n",
              "      <td>1.0</td>\n",
              "      <td>1.0</td>\n",
              "      <td>0.0</td>\n",
              "    </tr>\n",
              "  </tbody>\n",
              "</table>\n",
              "</div>\n",
              "      <button class=\"colab-df-convert\" onclick=\"convertToInteractive('df-9d0072c9-0b3c-49cc-8974-7ba8d99e51a8')\"\n",
              "              title=\"Convert this dataframe to an interactive table.\"\n",
              "              style=\"display:none;\">\n",
              "        \n",
              "  <svg xmlns=\"http://www.w3.org/2000/svg\" height=\"24px\"viewBox=\"0 0 24 24\"\n",
              "       width=\"24px\">\n",
              "    <path d=\"M0 0h24v24H0V0z\" fill=\"none\"/>\n",
              "    <path d=\"M18.56 5.44l.94 2.06.94-2.06 2.06-.94-2.06-.94-.94-2.06-.94 2.06-2.06.94zm-11 1L8.5 8.5l.94-2.06 2.06-.94-2.06-.94L8.5 2.5l-.94 2.06-2.06.94zm10 10l.94 2.06.94-2.06 2.06-.94-2.06-.94-.94-2.06-.94 2.06-2.06.94z\"/><path d=\"M17.41 7.96l-1.37-1.37c-.4-.4-.92-.59-1.43-.59-.52 0-1.04.2-1.43.59L10.3 9.45l-7.72 7.72c-.78.78-.78 2.05 0 2.83L4 21.41c.39.39.9.59 1.41.59.51 0 1.02-.2 1.41-.59l7.78-7.78 2.81-2.81c.8-.78.8-2.07 0-2.86zM5.41 20L4 18.59l7.72-7.72 1.47 1.35L5.41 20z\"/>\n",
              "  </svg>\n",
              "      </button>\n",
              "      \n",
              "  <style>\n",
              "    .colab-df-container {\n",
              "      display:flex;\n",
              "      flex-wrap:wrap;\n",
              "      gap: 12px;\n",
              "    }\n",
              "\n",
              "    .colab-df-convert {\n",
              "      background-color: #E8F0FE;\n",
              "      border: none;\n",
              "      border-radius: 50%;\n",
              "      cursor: pointer;\n",
              "      display: none;\n",
              "      fill: #1967D2;\n",
              "      height: 32px;\n",
              "      padding: 0 0 0 0;\n",
              "      width: 32px;\n",
              "    }\n",
              "\n",
              "    .colab-df-convert:hover {\n",
              "      background-color: #E2EBFA;\n",
              "      box-shadow: 0px 1px 2px rgba(60, 64, 67, 0.3), 0px 1px 3px 1px rgba(60, 64, 67, 0.15);\n",
              "      fill: #174EA6;\n",
              "    }\n",
              "\n",
              "    [theme=dark] .colab-df-convert {\n",
              "      background-color: #3B4455;\n",
              "      fill: #D2E3FC;\n",
              "    }\n",
              "\n",
              "    [theme=dark] .colab-df-convert:hover {\n",
              "      background-color: #434B5C;\n",
              "      box-shadow: 0px 1px 3px 1px rgba(0, 0, 0, 0.15);\n",
              "      filter: drop-shadow(0px 1px 2px rgba(0, 0, 0, 0.3));\n",
              "      fill: #FFFFFF;\n",
              "    }\n",
              "  </style>\n",
              "\n",
              "      <script>\n",
              "        const buttonEl =\n",
              "          document.querySelector('#df-9d0072c9-0b3c-49cc-8974-7ba8d99e51a8 button.colab-df-convert');\n",
              "        buttonEl.style.display =\n",
              "          google.colab.kernel.accessAllowed ? 'block' : 'none';\n",
              "\n",
              "        async function convertToInteractive(key) {\n",
              "          const element = document.querySelector('#df-9d0072c9-0b3c-49cc-8974-7ba8d99e51a8');\n",
              "          const dataTable =\n",
              "            await google.colab.kernel.invokeFunction('convertToInteractive',\n",
              "                                                     [key], {});\n",
              "          if (!dataTable) return;\n",
              "\n",
              "          const docLinkHtml = 'Like what you see? Visit the ' +\n",
              "            '<a target=\"_blank\" href=https://colab.research.google.com/notebooks/data_table.ipynb>data table notebook</a>'\n",
              "            + ' to learn more about interactive tables.';\n",
              "          element.innerHTML = '';\n",
              "          dataTable['output_type'] = 'display_data';\n",
              "          await google.colab.output.renderOutput(dataTable, element);\n",
              "          const docLink = document.createElement('div');\n",
              "          docLink.innerHTML = docLinkHtml;\n",
              "          element.appendChild(docLink);\n",
              "        }\n",
              "      </script>\n",
              "    </div>\n",
              "  </div>\n",
              "  "
            ]
          },
          "metadata": {},
          "execution_count": 130
        }
      ]
    },
    {
      "cell_type": "code",
      "source": [
        "from sklearn.model_selection import train_test_split\n",
        "\n",
        "X_train, X_valid, y_train, y_valid = train_test_split(X, y, train_size=0.8, stratify=y, random_state=39)"
      ],
      "metadata": {
        "id": "zw2gbNbpOrKy"
      },
      "execution_count": null,
      "outputs": []
    },
    {
      "cell_type": "code",
      "source": [
        "X_train.head()"
      ],
      "metadata": {
        "colab": {
          "base_uri": "https://localhost:8080/",
          "height": 287
        },
        "id": "ZXqrcOOoPVHg",
        "outputId": "eb093993-7e33-43d7-8c56-52f4a8b9d721"
      },
      "execution_count": null,
      "outputs": [
        {
          "output_type": "execute_result",
          "data": {
            "text/plain": [
              "     ApplicantIncomeByLoanAmount  CoapplicantIncomeByLoadAmount  \\\n",
              "93                     33.877049                       0.000000   \n",
              "497                    41.666667                      25.738739   \n",
              "269                    31.955556                      17.333333   \n",
              "40                     45.000000                       0.000000   \n",
              "549                    25.318182                      18.327273   \n",
              "\n",
              "     LoanAmountByLoanAmountTerm  Gender_Male  Gender_missing  Married_Yes  \\\n",
              "93                     0.338889          1.0             0.0          0.0   \n",
              "497                    9.250000          1.0             0.0          1.0   \n",
              "269                    0.250000          0.0             0.0          0.0   \n",
              "40                     0.222222          1.0             0.0          0.0   \n",
              "549                    0.305556          1.0             0.0          1.0   \n",
              "\n",
              "     Married_missing  Dependents_1  Dependents_2  Dependents_3+  \\\n",
              "93               0.0           0.0           0.0            0.0   \n",
              "497              0.0           0.0           0.0            0.0   \n",
              "269              0.0           1.0           0.0            0.0   \n",
              "40               0.0           0.0           0.0            0.0   \n",
              "549              0.0           0.0           0.0            0.0   \n",
              "\n",
              "     Dependents_missing  Education_Not Graduate  Self_Employed_Yes  \\\n",
              "93                  0.0                     0.0                0.0   \n",
              "497                 0.0                     0.0                0.0   \n",
              "269                 0.0                     0.0                0.0   \n",
              "40                  0.0                     0.0                0.0   \n",
              "549                 0.0                     0.0                0.0   \n",
              "\n",
              "     Self_Employed_missing  Property_Area_Semiurban  Property_Area_Urban  \\\n",
              "93                     0.0                      1.0                  0.0   \n",
              "497                    0.0                      0.0                  1.0   \n",
              "269                    0.0                      0.0                  1.0   \n",
              "40                     0.0                      0.0                  1.0   \n",
              "549                    0.0                      0.0                  0.0   \n",
              "\n",
              "     Credit_History_1.0  Credit_History_missing  \n",
              "93                  1.0                     0.0  \n",
              "497                 0.0                     1.0  \n",
              "269                 1.0                     0.0  \n",
              "40                  1.0                     0.0  \n",
              "549                 1.0                     0.0  "
            ],
            "text/html": [
              "\n",
              "  <div id=\"df-be935b35-ea3b-4d42-a73a-ff2bbb3222a6\">\n",
              "    <div class=\"colab-df-container\">\n",
              "      <div>\n",
              "<style scoped>\n",
              "    .dataframe tbody tr th:only-of-type {\n",
              "        vertical-align: middle;\n",
              "    }\n",
              "\n",
              "    .dataframe tbody tr th {\n",
              "        vertical-align: top;\n",
              "    }\n",
              "\n",
              "    .dataframe thead th {\n",
              "        text-align: right;\n",
              "    }\n",
              "</style>\n",
              "<table border=\"1\" class=\"dataframe\">\n",
              "  <thead>\n",
              "    <tr style=\"text-align: right;\">\n",
              "      <th></th>\n",
              "      <th>ApplicantIncomeByLoanAmount</th>\n",
              "      <th>CoapplicantIncomeByLoadAmount</th>\n",
              "      <th>LoanAmountByLoanAmountTerm</th>\n",
              "      <th>Gender_Male</th>\n",
              "      <th>Gender_missing</th>\n",
              "      <th>Married_Yes</th>\n",
              "      <th>Married_missing</th>\n",
              "      <th>Dependents_1</th>\n",
              "      <th>Dependents_2</th>\n",
              "      <th>Dependents_3+</th>\n",
              "      <th>Dependents_missing</th>\n",
              "      <th>Education_Not Graduate</th>\n",
              "      <th>Self_Employed_Yes</th>\n",
              "      <th>Self_Employed_missing</th>\n",
              "      <th>Property_Area_Semiurban</th>\n",
              "      <th>Property_Area_Urban</th>\n",
              "      <th>Credit_History_1.0</th>\n",
              "      <th>Credit_History_missing</th>\n",
              "    </tr>\n",
              "  </thead>\n",
              "  <tbody>\n",
              "    <tr>\n",
              "      <th>93</th>\n",
              "      <td>33.877049</td>\n",
              "      <td>0.000000</td>\n",
              "      <td>0.338889</td>\n",
              "      <td>1.0</td>\n",
              "      <td>0.0</td>\n",
              "      <td>0.0</td>\n",
              "      <td>0.0</td>\n",
              "      <td>0.0</td>\n",
              "      <td>0.0</td>\n",
              "      <td>0.0</td>\n",
              "      <td>0.0</td>\n",
              "      <td>0.0</td>\n",
              "      <td>0.0</td>\n",
              "      <td>0.0</td>\n",
              "      <td>1.0</td>\n",
              "      <td>0.0</td>\n",
              "      <td>1.0</td>\n",
              "      <td>0.0</td>\n",
              "    </tr>\n",
              "    <tr>\n",
              "      <th>497</th>\n",
              "      <td>41.666667</td>\n",
              "      <td>25.738739</td>\n",
              "      <td>9.250000</td>\n",
              "      <td>1.0</td>\n",
              "      <td>0.0</td>\n",
              "      <td>1.0</td>\n",
              "      <td>0.0</td>\n",
              "      <td>0.0</td>\n",
              "      <td>0.0</td>\n",
              "      <td>0.0</td>\n",
              "      <td>0.0</td>\n",
              "      <td>0.0</td>\n",
              "      <td>0.0</td>\n",
              "      <td>0.0</td>\n",
              "      <td>0.0</td>\n",
              "      <td>1.0</td>\n",
              "      <td>0.0</td>\n",
              "      <td>1.0</td>\n",
              "    </tr>\n",
              "    <tr>\n",
              "      <th>269</th>\n",
              "      <td>31.955556</td>\n",
              "      <td>17.333333</td>\n",
              "      <td>0.250000</td>\n",
              "      <td>0.0</td>\n",
              "      <td>0.0</td>\n",
              "      <td>0.0</td>\n",
              "      <td>0.0</td>\n",
              "      <td>1.0</td>\n",
              "      <td>0.0</td>\n",
              "      <td>0.0</td>\n",
              "      <td>0.0</td>\n",
              "      <td>0.0</td>\n",
              "      <td>0.0</td>\n",
              "      <td>0.0</td>\n",
              "      <td>0.0</td>\n",
              "      <td>1.0</td>\n",
              "      <td>1.0</td>\n",
              "      <td>0.0</td>\n",
              "    </tr>\n",
              "    <tr>\n",
              "      <th>40</th>\n",
              "      <td>45.000000</td>\n",
              "      <td>0.000000</td>\n",
              "      <td>0.222222</td>\n",
              "      <td>1.0</td>\n",
              "      <td>0.0</td>\n",
              "      <td>0.0</td>\n",
              "      <td>0.0</td>\n",
              "      <td>0.0</td>\n",
              "      <td>0.0</td>\n",
              "      <td>0.0</td>\n",
              "      <td>0.0</td>\n",
              "      <td>0.0</td>\n",
              "      <td>0.0</td>\n",
              "      <td>0.0</td>\n",
              "      <td>0.0</td>\n",
              "      <td>1.0</td>\n",
              "      <td>1.0</td>\n",
              "      <td>0.0</td>\n",
              "    </tr>\n",
              "    <tr>\n",
              "      <th>549</th>\n",
              "      <td>25.318182</td>\n",
              "      <td>18.327273</td>\n",
              "      <td>0.305556</td>\n",
              "      <td>1.0</td>\n",
              "      <td>0.0</td>\n",
              "      <td>1.0</td>\n",
              "      <td>0.0</td>\n",
              "      <td>0.0</td>\n",
              "      <td>0.0</td>\n",
              "      <td>0.0</td>\n",
              "      <td>0.0</td>\n",
              "      <td>0.0</td>\n",
              "      <td>0.0</td>\n",
              "      <td>0.0</td>\n",
              "      <td>0.0</td>\n",
              "      <td>0.0</td>\n",
              "      <td>1.0</td>\n",
              "      <td>0.0</td>\n",
              "    </tr>\n",
              "  </tbody>\n",
              "</table>\n",
              "</div>\n",
              "      <button class=\"colab-df-convert\" onclick=\"convertToInteractive('df-be935b35-ea3b-4d42-a73a-ff2bbb3222a6')\"\n",
              "              title=\"Convert this dataframe to an interactive table.\"\n",
              "              style=\"display:none;\">\n",
              "        \n",
              "  <svg xmlns=\"http://www.w3.org/2000/svg\" height=\"24px\"viewBox=\"0 0 24 24\"\n",
              "       width=\"24px\">\n",
              "    <path d=\"M0 0h24v24H0V0z\" fill=\"none\"/>\n",
              "    <path d=\"M18.56 5.44l.94 2.06.94-2.06 2.06-.94-2.06-.94-.94-2.06-.94 2.06-2.06.94zm-11 1L8.5 8.5l.94-2.06 2.06-.94-2.06-.94L8.5 2.5l-.94 2.06-2.06.94zm10 10l.94 2.06.94-2.06 2.06-.94-2.06-.94-.94-2.06-.94 2.06-2.06.94z\"/><path d=\"M17.41 7.96l-1.37-1.37c-.4-.4-.92-.59-1.43-.59-.52 0-1.04.2-1.43.59L10.3 9.45l-7.72 7.72c-.78.78-.78 2.05 0 2.83L4 21.41c.39.39.9.59 1.41.59.51 0 1.02-.2 1.41-.59l7.78-7.78 2.81-2.81c.8-.78.8-2.07 0-2.86zM5.41 20L4 18.59l7.72-7.72 1.47 1.35L5.41 20z\"/>\n",
              "  </svg>\n",
              "      </button>\n",
              "      \n",
              "  <style>\n",
              "    .colab-df-container {\n",
              "      display:flex;\n",
              "      flex-wrap:wrap;\n",
              "      gap: 12px;\n",
              "    }\n",
              "\n",
              "    .colab-df-convert {\n",
              "      background-color: #E8F0FE;\n",
              "      border: none;\n",
              "      border-radius: 50%;\n",
              "      cursor: pointer;\n",
              "      display: none;\n",
              "      fill: #1967D2;\n",
              "      height: 32px;\n",
              "      padding: 0 0 0 0;\n",
              "      width: 32px;\n",
              "    }\n",
              "\n",
              "    .colab-df-convert:hover {\n",
              "      background-color: #E2EBFA;\n",
              "      box-shadow: 0px 1px 2px rgba(60, 64, 67, 0.3), 0px 1px 3px 1px rgba(60, 64, 67, 0.15);\n",
              "      fill: #174EA6;\n",
              "    }\n",
              "\n",
              "    [theme=dark] .colab-df-convert {\n",
              "      background-color: #3B4455;\n",
              "      fill: #D2E3FC;\n",
              "    }\n",
              "\n",
              "    [theme=dark] .colab-df-convert:hover {\n",
              "      background-color: #434B5C;\n",
              "      box-shadow: 0px 1px 3px 1px rgba(0, 0, 0, 0.15);\n",
              "      filter: drop-shadow(0px 1px 2px rgba(0, 0, 0, 0.3));\n",
              "      fill: #FFFFFF;\n",
              "    }\n",
              "  </style>\n",
              "\n",
              "      <script>\n",
              "        const buttonEl =\n",
              "          document.querySelector('#df-be935b35-ea3b-4d42-a73a-ff2bbb3222a6 button.colab-df-convert');\n",
              "        buttonEl.style.display =\n",
              "          google.colab.kernel.accessAllowed ? 'block' : 'none';\n",
              "\n",
              "        async function convertToInteractive(key) {\n",
              "          const element = document.querySelector('#df-be935b35-ea3b-4d42-a73a-ff2bbb3222a6');\n",
              "          const dataTable =\n",
              "            await google.colab.kernel.invokeFunction('convertToInteractive',\n",
              "                                                     [key], {});\n",
              "          if (!dataTable) return;\n",
              "\n",
              "          const docLinkHtml = 'Like what you see? Visit the ' +\n",
              "            '<a target=\"_blank\" href=https://colab.research.google.com/notebooks/data_table.ipynb>data table notebook</a>'\n",
              "            + ' to learn more about interactive tables.';\n",
              "          element.innerHTML = '';\n",
              "          dataTable['output_type'] = 'display_data';\n",
              "          await google.colab.output.renderOutput(dataTable, element);\n",
              "          const docLink = document.createElement('div');\n",
              "          docLink.innerHTML = docLinkHtml;\n",
              "          element.appendChild(docLink);\n",
              "        }\n",
              "      </script>\n",
              "    </div>\n",
              "  </div>\n",
              "  "
            ]
          },
          "metadata": {},
          "execution_count": 132
        }
      ]
    },
    {
      "cell_type": "code",
      "source": [
        "pd.DataFrame(y).value_counts()"
      ],
      "metadata": {
        "colab": {
          "base_uri": "https://localhost:8080/"
        },
        "id": "5NfxFNioPapU",
        "outputId": "84f34a02-42f8-45f6-f764-6c659dc364fc"
      },
      "execution_count": null,
      "outputs": [
        {
          "output_type": "execute_result",
          "data": {
            "text/plain": [
              "1    422\n",
              "0    192\n",
              "dtype: int64"
            ]
          },
          "metadata": {},
          "execution_count": 133
        }
      ]
    },
    {
      "cell_type": "code",
      "source": [
        "from sklearn.preprocessing import MinMaxScaler\n",
        "\n",
        "scaler = MinMaxScaler()\n",
        "X_train[[\"ApplicantIncomeByLoanAmount\",\n",
        "         \"CoapplicantIncomeByLoadAmount\", \n",
        "         \"LoanAmountByLoanAmountTerm\"\n",
        "         ]] = scaler.fit_transform(\n",
        "              X_train[[\"ApplicantIncomeByLoanAmount\",\n",
        "                       \"CoapplicantIncomeByLoadAmount\", \n",
        "                       \"LoanAmountByLoanAmountTerm\"\n",
        "                       ]]\n",
        "         )\n",
        "X_valid[[\"ApplicantIncomeByLoanAmount\",\n",
        "         \"CoapplicantIncomeByLoadAmount\", \n",
        "         \"LoanAmountByLoanAmountTerm\"\n",
        "         ]] = scaler.transform(\n",
        "              X_valid[[\"ApplicantIncomeByLoanAmount\",\n",
        "                       \"CoapplicantIncomeByLoadAmount\", \n",
        "                       \"LoanAmountByLoanAmountTerm\"\n",
        "                       ]]\n",
        "         )"
      ],
      "metadata": {
        "id": "2jM6g0ItPlYL"
      },
      "execution_count": null,
      "outputs": []
    },
    {
      "cell_type": "code",
      "source": [
        "X_train.sample(10)"
      ],
      "metadata": {
        "colab": {
          "base_uri": "https://localhost:8080/",
          "height": 444
        },
        "id": "C7y4mqDmlZvA",
        "outputId": "29ff2fe0-a91c-405b-b1c0-bd87957f9140"
      },
      "execution_count": null,
      "outputs": [
        {
          "output_type": "execute_result",
          "data": {
            "text/plain": [
              "     ApplicantIncomeByLoanAmount  CoapplicantIncomeByLoadAmount  \\\n",
              "183                     0.390589                       0.000000   \n",
              "58                      0.132484                       0.033248   \n",
              "348                     0.070635                       0.047065   \n",
              "453                     0.080129                       0.072879   \n",
              "423                     0.196097                       0.040308   \n",
              "204                     0.092234                       0.000000   \n",
              "29                      0.091209                       0.046170   \n",
              "185                     0.983885                       0.105284   \n",
              "337                     0.039624                       0.069518   \n",
              "578                     0.047038                       0.055483   \n",
              "\n",
              "     LoanAmountByLoanAmountTerm  Gender_Male  Gender_missing  Married_Yes  \\\n",
              "183                    0.075580          1.0             0.0          1.0   \n",
              "58                     0.051491          1.0             0.0          1.0   \n",
              "348                    0.075279          1.0             0.0          1.0   \n",
              "453                    0.051491          1.0             0.0          1.0   \n",
              "423                    0.031555          1.0             0.0          1.0   \n",
              "204                    0.034628          1.0             0.0          1.0   \n",
              "29                     0.033424          0.0             0.0          0.0   \n",
              "185                    0.033424          1.0             0.0          1.0   \n",
              "337                    0.050286          1.0             0.0          1.0   \n",
              "578                    0.029509          1.0             0.0          1.0   \n",
              "\n",
              "     Married_missing  Dependents_1  Dependents_2  Dependents_3+  \\\n",
              "183              0.0           1.0           0.0            0.0   \n",
              "58               0.0           1.0           0.0            0.0   \n",
              "348              0.0           0.0           0.0            0.0   \n",
              "453              0.0           0.0           0.0            0.0   \n",
              "423              0.0           1.0           0.0            0.0   \n",
              "204              0.0           0.0           1.0            0.0   \n",
              "29               0.0           0.0           1.0            0.0   \n",
              "185              0.0           0.0           0.0            0.0   \n",
              "337              0.0           0.0           1.0            0.0   \n",
              "578              0.0           1.0           0.0            0.0   \n",
              "\n",
              "     Dependents_missing  Education_Not Graduate  Self_Employed_Yes  \\\n",
              "183                 0.0                     0.0                0.0   \n",
              "58                  0.0                     0.0                0.0   \n",
              "348                 0.0                     0.0                0.0   \n",
              "453                 0.0                     0.0                0.0   \n",
              "423                 0.0                     0.0                0.0   \n",
              "204                 0.0                     1.0                0.0   \n",
              "29                  0.0                     0.0                0.0   \n",
              "185                 0.0                     0.0                1.0   \n",
              "337                 0.0                     0.0                1.0   \n",
              "578                 0.0                     0.0                0.0   \n",
              "\n",
              "     Self_Employed_missing  Property_Area_Semiurban  Property_Area_Urban  \\\n",
              "183                    0.0                      1.0                  0.0   \n",
              "58                     0.0                      0.0                  1.0   \n",
              "348                    0.0                      1.0                  0.0   \n",
              "453                    0.0                      0.0                  0.0   \n",
              "423                    0.0                      0.0                  1.0   \n",
              "204                    0.0                      1.0                  0.0   \n",
              "29                     1.0                      1.0                  0.0   \n",
              "185                    0.0                      1.0                  0.0   \n",
              "337                    0.0                      0.0                  0.0   \n",
              "578                    0.0                      0.0                  0.0   \n",
              "\n",
              "     Credit_History_1.0  Credit_History_missing  \n",
              "183                 1.0                     0.0  \n",
              "58                  1.0                     0.0  \n",
              "348                 0.0                     1.0  \n",
              "453                 0.0                     0.0  \n",
              "423                 0.0                     0.0  \n",
              "204                 1.0                     0.0  \n",
              "29                  1.0                     0.0  \n",
              "185                 1.0                     0.0  \n",
              "337                 1.0                     0.0  \n",
              "578                 1.0                     0.0  "
            ],
            "text/html": [
              "\n",
              "  <div id=\"df-dced11aa-633f-41b1-a495-f7635b37540a\">\n",
              "    <div class=\"colab-df-container\">\n",
              "      <div>\n",
              "<style scoped>\n",
              "    .dataframe tbody tr th:only-of-type {\n",
              "        vertical-align: middle;\n",
              "    }\n",
              "\n",
              "    .dataframe tbody tr th {\n",
              "        vertical-align: top;\n",
              "    }\n",
              "\n",
              "    .dataframe thead th {\n",
              "        text-align: right;\n",
              "    }\n",
              "</style>\n",
              "<table border=\"1\" class=\"dataframe\">\n",
              "  <thead>\n",
              "    <tr style=\"text-align: right;\">\n",
              "      <th></th>\n",
              "      <th>ApplicantIncomeByLoanAmount</th>\n",
              "      <th>CoapplicantIncomeByLoadAmount</th>\n",
              "      <th>LoanAmountByLoanAmountTerm</th>\n",
              "      <th>Gender_Male</th>\n",
              "      <th>Gender_missing</th>\n",
              "      <th>Married_Yes</th>\n",
              "      <th>Married_missing</th>\n",
              "      <th>Dependents_1</th>\n",
              "      <th>Dependents_2</th>\n",
              "      <th>Dependents_3+</th>\n",
              "      <th>Dependents_missing</th>\n",
              "      <th>Education_Not Graduate</th>\n",
              "      <th>Self_Employed_Yes</th>\n",
              "      <th>Self_Employed_missing</th>\n",
              "      <th>Property_Area_Semiurban</th>\n",
              "      <th>Property_Area_Urban</th>\n",
              "      <th>Credit_History_1.0</th>\n",
              "      <th>Credit_History_missing</th>\n",
              "    </tr>\n",
              "  </thead>\n",
              "  <tbody>\n",
              "    <tr>\n",
              "      <th>183</th>\n",
              "      <td>0.390589</td>\n",
              "      <td>0.000000</td>\n",
              "      <td>0.075580</td>\n",
              "      <td>1.0</td>\n",
              "      <td>0.0</td>\n",
              "      <td>1.0</td>\n",
              "      <td>0.0</td>\n",
              "      <td>1.0</td>\n",
              "      <td>0.0</td>\n",
              "      <td>0.0</td>\n",
              "      <td>0.0</td>\n",
              "      <td>0.0</td>\n",
              "      <td>0.0</td>\n",
              "      <td>0.0</td>\n",
              "      <td>1.0</td>\n",
              "      <td>0.0</td>\n",
              "      <td>1.0</td>\n",
              "      <td>0.0</td>\n",
              "    </tr>\n",
              "    <tr>\n",
              "      <th>58</th>\n",
              "      <td>0.132484</td>\n",
              "      <td>0.033248</td>\n",
              "      <td>0.051491</td>\n",
              "      <td>1.0</td>\n",
              "      <td>0.0</td>\n",
              "      <td>1.0</td>\n",
              "      <td>0.0</td>\n",
              "      <td>1.0</td>\n",
              "      <td>0.0</td>\n",
              "      <td>0.0</td>\n",
              "      <td>0.0</td>\n",
              "      <td>0.0</td>\n",
              "      <td>0.0</td>\n",
              "      <td>0.0</td>\n",
              "      <td>0.0</td>\n",
              "      <td>1.0</td>\n",
              "      <td>1.0</td>\n",
              "      <td>0.0</td>\n",
              "    </tr>\n",
              "    <tr>\n",
              "      <th>348</th>\n",
              "      <td>0.070635</td>\n",
              "      <td>0.047065</td>\n",
              "      <td>0.075279</td>\n",
              "      <td>1.0</td>\n",
              "      <td>0.0</td>\n",
              "      <td>1.0</td>\n",
              "      <td>0.0</td>\n",
              "      <td>0.0</td>\n",
              "      <td>0.0</td>\n",
              "      <td>0.0</td>\n",
              "      <td>0.0</td>\n",
              "      <td>0.0</td>\n",
              "      <td>0.0</td>\n",
              "      <td>0.0</td>\n",
              "      <td>1.0</td>\n",
              "      <td>0.0</td>\n",
              "      <td>0.0</td>\n",
              "      <td>1.0</td>\n",
              "    </tr>\n",
              "    <tr>\n",
              "      <th>453</th>\n",
              "      <td>0.080129</td>\n",
              "      <td>0.072879</td>\n",
              "      <td>0.051491</td>\n",
              "      <td>1.0</td>\n",
              "      <td>0.0</td>\n",
              "      <td>1.0</td>\n",
              "      <td>0.0</td>\n",
              "      <td>0.0</td>\n",
              "      <td>0.0</td>\n",
              "      <td>0.0</td>\n",
              "      <td>0.0</td>\n",
              "      <td>0.0</td>\n",
              "      <td>0.0</td>\n",
              "      <td>0.0</td>\n",
              "      <td>0.0</td>\n",
              "      <td>0.0</td>\n",
              "      <td>0.0</td>\n",
              "      <td>0.0</td>\n",
              "    </tr>\n",
              "    <tr>\n",
              "      <th>423</th>\n",
              "      <td>0.196097</td>\n",
              "      <td>0.040308</td>\n",
              "      <td>0.031555</td>\n",
              "      <td>1.0</td>\n",
              "      <td>0.0</td>\n",
              "      <td>1.0</td>\n",
              "      <td>0.0</td>\n",
              "      <td>1.0</td>\n",
              "      <td>0.0</td>\n",
              "      <td>0.0</td>\n",
              "      <td>0.0</td>\n",
              "      <td>0.0</td>\n",
              "      <td>0.0</td>\n",
              "      <td>0.0</td>\n",
              "      <td>0.0</td>\n",
              "      <td>1.0</td>\n",
              "      <td>0.0</td>\n",
              "      <td>0.0</td>\n",
              "    </tr>\n",
              "    <tr>\n",
              "      <th>204</th>\n",
              "      <td>0.092234</td>\n",
              "      <td>0.000000</td>\n",
              "      <td>0.034628</td>\n",
              "      <td>1.0</td>\n",
              "      <td>0.0</td>\n",
              "      <td>1.0</td>\n",
              "      <td>0.0</td>\n",
              "      <td>0.0</td>\n",
              "      <td>1.0</td>\n",
              "      <td>0.0</td>\n",
              "      <td>0.0</td>\n",
              "      <td>1.0</td>\n",
              "      <td>0.0</td>\n",
              "      <td>0.0</td>\n",
              "      <td>1.0</td>\n",
              "      <td>0.0</td>\n",
              "      <td>1.0</td>\n",
              "      <td>0.0</td>\n",
              "    </tr>\n",
              "    <tr>\n",
              "      <th>29</th>\n",
              "      <td>0.091209</td>\n",
              "      <td>0.046170</td>\n",
              "      <td>0.033424</td>\n",
              "      <td>0.0</td>\n",
              "      <td>0.0</td>\n",
              "      <td>0.0</td>\n",
              "      <td>0.0</td>\n",
              "      <td>0.0</td>\n",
              "      <td>1.0</td>\n",
              "      <td>0.0</td>\n",
              "      <td>0.0</td>\n",
              "      <td>0.0</td>\n",
              "      <td>0.0</td>\n",
              "      <td>1.0</td>\n",
              "      <td>1.0</td>\n",
              "      <td>0.0</td>\n",
              "      <td>1.0</td>\n",
              "      <td>0.0</td>\n",
              "    </tr>\n",
              "    <tr>\n",
              "      <th>185</th>\n",
              "      <td>0.983885</td>\n",
              "      <td>0.105284</td>\n",
              "      <td>0.033424</td>\n",
              "      <td>1.0</td>\n",
              "      <td>0.0</td>\n",
              "      <td>1.0</td>\n",
              "      <td>0.0</td>\n",
              "      <td>0.0</td>\n",
              "      <td>0.0</td>\n",
              "      <td>0.0</td>\n",
              "      <td>0.0</td>\n",
              "      <td>0.0</td>\n",
              "      <td>1.0</td>\n",
              "      <td>0.0</td>\n",
              "      <td>1.0</td>\n",
              "      <td>0.0</td>\n",
              "      <td>1.0</td>\n",
              "      <td>0.0</td>\n",
              "    </tr>\n",
              "    <tr>\n",
              "      <th>337</th>\n",
              "      <td>0.039624</td>\n",
              "      <td>0.069518</td>\n",
              "      <td>0.050286</td>\n",
              "      <td>1.0</td>\n",
              "      <td>0.0</td>\n",
              "      <td>1.0</td>\n",
              "      <td>0.0</td>\n",
              "      <td>0.0</td>\n",
              "      <td>1.0</td>\n",
              "      <td>0.0</td>\n",
              "      <td>0.0</td>\n",
              "      <td>0.0</td>\n",
              "      <td>1.0</td>\n",
              "      <td>0.0</td>\n",
              "      <td>0.0</td>\n",
              "      <td>0.0</td>\n",
              "      <td>1.0</td>\n",
              "      <td>0.0</td>\n",
              "    </tr>\n",
              "    <tr>\n",
              "      <th>578</th>\n",
              "      <td>0.047038</td>\n",
              "      <td>0.055483</td>\n",
              "      <td>0.029509</td>\n",
              "      <td>1.0</td>\n",
              "      <td>0.0</td>\n",
              "      <td>1.0</td>\n",
              "      <td>0.0</td>\n",
              "      <td>1.0</td>\n",
              "      <td>0.0</td>\n",
              "      <td>0.0</td>\n",
              "      <td>0.0</td>\n",
              "      <td>0.0</td>\n",
              "      <td>0.0</td>\n",
              "      <td>0.0</td>\n",
              "      <td>0.0</td>\n",
              "      <td>0.0</td>\n",
              "      <td>1.0</td>\n",
              "      <td>0.0</td>\n",
              "    </tr>\n",
              "  </tbody>\n",
              "</table>\n",
              "</div>\n",
              "      <button class=\"colab-df-convert\" onclick=\"convertToInteractive('df-dced11aa-633f-41b1-a495-f7635b37540a')\"\n",
              "              title=\"Convert this dataframe to an interactive table.\"\n",
              "              style=\"display:none;\">\n",
              "        \n",
              "  <svg xmlns=\"http://www.w3.org/2000/svg\" height=\"24px\"viewBox=\"0 0 24 24\"\n",
              "       width=\"24px\">\n",
              "    <path d=\"M0 0h24v24H0V0z\" fill=\"none\"/>\n",
              "    <path d=\"M18.56 5.44l.94 2.06.94-2.06 2.06-.94-2.06-.94-.94-2.06-.94 2.06-2.06.94zm-11 1L8.5 8.5l.94-2.06 2.06-.94-2.06-.94L8.5 2.5l-.94 2.06-2.06.94zm10 10l.94 2.06.94-2.06 2.06-.94-2.06-.94-.94-2.06-.94 2.06-2.06.94z\"/><path d=\"M17.41 7.96l-1.37-1.37c-.4-.4-.92-.59-1.43-.59-.52 0-1.04.2-1.43.59L10.3 9.45l-7.72 7.72c-.78.78-.78 2.05 0 2.83L4 21.41c.39.39.9.59 1.41.59.51 0 1.02-.2 1.41-.59l7.78-7.78 2.81-2.81c.8-.78.8-2.07 0-2.86zM5.41 20L4 18.59l7.72-7.72 1.47 1.35L5.41 20z\"/>\n",
              "  </svg>\n",
              "      </button>\n",
              "      \n",
              "  <style>\n",
              "    .colab-df-container {\n",
              "      display:flex;\n",
              "      flex-wrap:wrap;\n",
              "      gap: 12px;\n",
              "    }\n",
              "\n",
              "    .colab-df-convert {\n",
              "      background-color: #E8F0FE;\n",
              "      border: none;\n",
              "      border-radius: 50%;\n",
              "      cursor: pointer;\n",
              "      display: none;\n",
              "      fill: #1967D2;\n",
              "      height: 32px;\n",
              "      padding: 0 0 0 0;\n",
              "      width: 32px;\n",
              "    }\n",
              "\n",
              "    .colab-df-convert:hover {\n",
              "      background-color: #E2EBFA;\n",
              "      box-shadow: 0px 1px 2px rgba(60, 64, 67, 0.3), 0px 1px 3px 1px rgba(60, 64, 67, 0.15);\n",
              "      fill: #174EA6;\n",
              "    }\n",
              "\n",
              "    [theme=dark] .colab-df-convert {\n",
              "      background-color: #3B4455;\n",
              "      fill: #D2E3FC;\n",
              "    }\n",
              "\n",
              "    [theme=dark] .colab-df-convert:hover {\n",
              "      background-color: #434B5C;\n",
              "      box-shadow: 0px 1px 3px 1px rgba(0, 0, 0, 0.15);\n",
              "      filter: drop-shadow(0px 1px 2px rgba(0, 0, 0, 0.3));\n",
              "      fill: #FFFFFF;\n",
              "    }\n",
              "  </style>\n",
              "\n",
              "      <script>\n",
              "        const buttonEl =\n",
              "          document.querySelector('#df-dced11aa-633f-41b1-a495-f7635b37540a button.colab-df-convert');\n",
              "        buttonEl.style.display =\n",
              "          google.colab.kernel.accessAllowed ? 'block' : 'none';\n",
              "\n",
              "        async function convertToInteractive(key) {\n",
              "          const element = document.querySelector('#df-dced11aa-633f-41b1-a495-f7635b37540a');\n",
              "          const dataTable =\n",
              "            await google.colab.kernel.invokeFunction('convertToInteractive',\n",
              "                                                     [key], {});\n",
              "          if (!dataTable) return;\n",
              "\n",
              "          const docLinkHtml = 'Like what you see? Visit the ' +\n",
              "            '<a target=\"_blank\" href=https://colab.research.google.com/notebooks/data_table.ipynb>data table notebook</a>'\n",
              "            + ' to learn more about interactive tables.';\n",
              "          element.innerHTML = '';\n",
              "          dataTable['output_type'] = 'display_data';\n",
              "          await google.colab.output.renderOutput(dataTable, element);\n",
              "          const docLink = document.createElement('div');\n",
              "          docLink.innerHTML = docLinkHtml;\n",
              "          element.appendChild(docLink);\n",
              "        }\n",
              "      </script>\n",
              "    </div>\n",
              "  </div>\n",
              "  "
            ]
          },
          "metadata": {},
          "execution_count": 135
        }
      ]
    },
    {
      "cell_type": "code",
      "source": [
        "## Using neural network to solve this problem"
      ],
      "metadata": {
        "id": "Jd7YoN_ks2rz"
      },
      "execution_count": null,
      "outputs": []
    },
    {
      "cell_type": "code",
      "source": [
        "import matplotlib.pyplot as plt\n",
        "import seaborn as sns\n",
        "import numpy as np\n",
        "\n",
        "def plot_history(history):\n",
        "    keys = list(history.history.keys())\n",
        "    n_plots = int(len(keys) / 2)\n",
        "    for i in range(0, n_plots):\n",
        "        n_epochs = len(history.history[keys[i]])\n",
        "        sns.lineplot(\n",
        "            x=np.arange(1, n_epochs+1),\n",
        "            y=history.history[keys[i]],\n",
        "            label=\"Train data\"\n",
        "        )\n",
        "        sns.lineplot(\n",
        "            x=np.arange(1, n_epochs+1),\n",
        "            y=history.history[keys[n_plots+i]],\n",
        "            label=\"Validation data\"\n",
        "        )\n",
        "        plt.title(keys[i])\n",
        "        plt.legend()\n",
        "        plt.show()\n"
      ],
      "metadata": {
        "id": "HlFTJj9j0AEM"
      },
      "execution_count": null,
      "outputs": []
    },
    {
      "cell_type": "code",
      "source": [
        "import tensorflow as tf\n",
        "from tensorflow import keras\n",
        "from tensorflow.keras import layers\n",
        "from tensorflow.keras.models import Sequential\n",
        "from tensorflow.keras.utils import plot_model"
      ],
      "metadata": {
        "id": "AEN1guv2s7D0"
      },
      "execution_count": null,
      "outputs": []
    },
    {
      "cell_type": "code",
      "source": [
        "X_train.shape"
      ],
      "metadata": {
        "colab": {
          "base_uri": "https://localhost:8080/"
        },
        "id": "j6lMx9eRuCQ8",
        "outputId": "f25556f3-f926-49ce-dce2-be8956ab8723"
      },
      "execution_count": null,
      "outputs": [
        {
          "output_type": "execute_result",
          "data": {
            "text/plain": [
              "(491, 18)"
            ]
          },
          "metadata": {},
          "execution_count": 139
        }
      ]
    },
    {
      "cell_type": "code",
      "source": [
        "model1 = Sequential()\n",
        "\n",
        "model1.add(layers.Dense(128,\n",
        "                        activation=\"relu\",\n",
        "                        kernel_regularizer=keras.regularizers.L1(0.01)))\n",
        "\n",
        "model1.add(layers.Dense(32, \n",
        "                        activation=\"relu\",\n",
        "                        kernel_regularizer=keras.regularizers.L1(0.01)))\n",
        "\n",
        "model1.add(layers.Dense(1))"
      ],
      "metadata": {
        "id": "Br0KxHB-tZAw"
      },
      "execution_count": null,
      "outputs": []
    },
    {
      "cell_type": "code",
      "source": [
        "model1.compile(\n",
        "    optimizer=keras.optimizers.Adam(learning_rate=0.01),\n",
        "    loss=keras.losses.BinaryCrossentropy(from_logits=True),\n",
        "    metrics=[\"accuracy\", \"AUC\"]\n",
        ")"
      ],
      "metadata": {
        "id": "TPxbX2-suIa9"
      },
      "execution_count": null,
      "outputs": []
    },
    {
      "cell_type": "code",
      "source": [
        "history = model1.fit(X_train, \n",
        "           y_train,\n",
        "           batch_size=64,\n",
        "           epochs=35,\n",
        "           verbose=0,\n",
        "           validation_data=[X_valid, y_valid])"
      ],
      "metadata": {
        "id": "3BY-4pTOuMDz"
      },
      "execution_count": null,
      "outputs": []
    },
    {
      "cell_type": "code",
      "source": [
        "plot_history(history)"
      ],
      "metadata": {
        "colab": {
          "base_uri": "https://localhost:8080/",
          "height": 1000
        },
        "id": "5LmAitlJw_rh",
        "outputId": "e04883fc-2e54-4b7e-ab8c-e8db26fd0316"
      },
      "execution_count": null,
      "outputs": [
        {
          "output_type": "display_data",
          "data": {
            "text/plain": [
              "<Figure size 640x480 with 1 Axes>"
            ],
            "image/png": "[encoded data removed]"
          },
          "metadata": {}
        },
        {
          "output_type": "display_data",
          "data": {
            "text/plain": [
              "<Figure size 640x480 with 1 Axes>"
            ],
            "image/png": "[encoded data removed]"
          },
          "metadata": {}
        },
        {
          "output_type": "display_data",
          "data": {
            "text/plain": [
              "<Figure size 640x480 with 1 Axes>"
            ],
            "image/png": "[encoded data removed]"
          },
          "metadata": {}
        }
      ]
    },
    {
      "cell_type": "code",
      "source": [
        "model1.evaluate(X_valid, y_valid)"
      ],
      "metadata": {
        "colab": {
          "base_uri": "https://localhost:8080/"
        },
        "id": "fKjbwKJqyNlT",
        "outputId": "dc740ec4-cdb3-4b7f-9bf7-9d1a7d9c45d9"
      },
      "execution_count": null,
      "outputs": [
        {
          "output_type": "stream",
          "name": "stdout",
          "text": [
            "4/4 [==============================] - 0s 6ms/step - loss: 0.6235 - accuracy: 0.7805 - auc: 0.7186\n"
          ]
        },
        {
          "output_type": "execute_result",
          "data": {
            "text/plain": [
              "[0.6235209703445435, 0.7804877758026123, 0.7185758352279663]"
            ]
          },
          "metadata": {},
          "execution_count": 286
        }
      ]
    },
    {
      "cell_type": "code",
      "source": [
        "(X_train.shape[0] // 32) * 30"
      ],
      "metadata": {
        "colab": {
          "base_uri": "https://localhost:8080/"
        },
        "id": "MH7FO6HEfoBj",
        "outputId": "ad84a9d0-392c-4489-9744-d94a46057694"
      },
      "execution_count": null,
      "outputs": [
        {
          "output_type": "execute_result",
          "data": {
            "text/plain": [
              "450"
            ]
          },
          "metadata": {},
          "execution_count": 287
        }
      ]
    },
    {
      "cell_type": "code",
      "source": [
        "plot_model(model1, show_shapes=True, show_dtype=True)"
      ],
      "metadata": {
        "colab": {
          "base_uri": "https://localhost:8080/",
          "height": 545
        },
        "id": "ZBDNjhePmzFt",
        "outputId": "0d3bdf7e-4551-47b2-c2ca-0b5f4d62ecb5"
      },
      "execution_count": null,
      "outputs": [
        {
          "output_type": "execute_result",
          "data": {
            "image/png": "[encoded data removed]",
            "text/plain": [
              "<IPython.core.display.Image object>"
            ]
          },
          "metadata": {},
          "execution_count": 261
        }
      ]
    },
    {
      "cell_type": "code",
      "source": [
        "from sklearn.preprocessing import MinMaxScaler\n",
        "\n",
        "scaler = MinMaxScaler()\n",
        "X[[\"ApplicantIncomeByLoanAmount\",\n",
        "         \"CoapplicantIncomeByLoadAmount\", \n",
        "         \"LoanAmountByLoanAmountTerm\"\n",
        "         ]] = scaler.fit_transform(\n",
        "              X[[\"ApplicantIncomeByLoanAmount\",\n",
        "                       \"CoapplicantIncomeByLoadAmount\", \n",
        "                       \"LoanAmountByLoanAmountTerm\"\n",
        "                       ]]\n",
        "         )\n",
        "X_test[[\"ApplicantIncomeByLoanAmount\",\n",
        "         \"CoapplicantIncomeByLoadAmount\", \n",
        "         \"LoanAmountByLoanAmountTerm\"\n",
        "         ]] = scaler.transform(\n",
        "              X_test[[\"ApplicantIncomeByLoanAmount\",\n",
        "                       \"CoapplicantIncomeByLoadAmount\", \n",
        "                       \"LoanAmountByLoanAmountTerm\"\n",
        "                       ]]\n",
        "         )"
      ],
      "metadata": {
        "id": "T0Mvc1UVsI9K"
      },
      "execution_count": null,
      "outputs": []
    },
    {
      "cell_type": "code",
      "source": [
        "def build_model():\n",
        "    model = Sequential()\n",
        "    model.add(layers.Dense(128,\n",
        "                        activation=\"relu\",\n",
        "                        kernel_regularizer=keras.regularizers.L1(0.01)))\n",
        "    model.add(layers.Dropout(0.5))\n",
        "    model.add(layers.Dense(32, \n",
        "                        activation=\"relu\",\n",
        "                        kernel_regularizer=keras.regularizers.L1(0.01)))\n",
        "    model.add(layers.Dense(1))\n",
        "\n",
        "    model.compile(\n",
        "        optimizer=keras.optimizers.Adam(learning_rate=0.01),\n",
        "        loss=keras.losses.BinaryCrossentropy(from_logits=True),\n",
        "        metrics=[\"accuracy\", \"AUC\"]\n",
        "    )\n",
        "    return model\n"
      ],
      "metadata": {
        "id": "_miiq7-PnmGr"
      },
      "execution_count": null,
      "outputs": []
    },
    {
      "cell_type": "code",
      "source": [
        "model2 = build_model()\n",
        "model2.compile(\n",
        "    optimizer=keras.optimizers.Adam(learning_rate=0.01),\n",
        "    loss=keras.losses.BinaryCrossentropy(from_logits=True),\n",
        "    metrics=[\"accuracy\", \"AUC\"]\n",
        ")"
      ],
      "metadata": {
        "id": "h7I9vBUprGSy"
      },
      "execution_count": null,
      "outputs": []
    },
    {
      "cell_type": "code",
      "source": [
        "history = model2.fit(X, \n",
        "           y,\n",
        "           batch_size=64,\n",
        "           epochs=35,\n",
        "           verbose=0)"
      ],
      "metadata": {
        "id": "_2eM8q94rMxr"
      },
      "execution_count": null,
      "outputs": []
    },
    {
      "cell_type": "code",
      "source": [
        "sns.lineplot(history.history[\"loss\"])"
      ],
      "metadata": {
        "colab": {
          "base_uri": "https://localhost:8080/",
          "height": 447
        },
        "id": "sE3sKlE6rUAf",
        "outputId": "611744e3-98d4-4c53-814c-7984810a6ccd"
      },
      "execution_count": null,
      "outputs": [
        {
          "output_type": "execute_result",
          "data": {
            "text/plain": [
              "<Axes: >"
            ]
          },
          "metadata": {},
          "execution_count": 461
        },
        {
          "output_type": "display_data",
          "data": {
            "text/plain": [
              "<Figure size 640x480 with 1 Axes>"
            ],
            "image/png": "[encoded data removed]"
          },
          "metadata": {}
        }
      ]
    },
    {
      "cell_type": "code",
      "source": [
        "sns.lineplot(history.history[\"accuracy\"])"
      ],
      "metadata": {
        "colab": {
          "base_uri": "https://localhost:8080/",
          "height": 447
        },
        "id": "VO6vfzF0rnNT",
        "outputId": "68f3b371-6c7f-45cc-a853-35cedf63c97b"
      },
      "execution_count": null,
      "outputs": [
        {
          "output_type": "execute_result",
          "data": {
            "text/plain": [
              "<Axes: >"
            ]
          },
          "metadata": {},
          "execution_count": 462
        },
        {
          "output_type": "display_data",
          "data": {
            "text/plain": [
              "<Figure size 640x480 with 1 Axes>"
            ],
            "image/png": "[encoded data removed]"
          },
          "metadata": {}
        }
      ]
    },
    {
      "cell_type": "code",
      "source": [
        "predictions_logits = model.predict(X_test)\n",
        "predictions_logits = pd.DataFrame(predictions_logits)"
      ],
      "metadata": {
        "colab": {
          "base_uri": "https://localhost:8080/"
        },
        "id": "sR9T-3trrv_B",
        "outputId": "896a87f1-2216-40ab-fdf3-d8f28fe6f076"
      },
      "execution_count": null,
      "outputs": [
        {
          "output_type": "stream",
          "name": "stdout",
          "text": [
            "12/12 [==============================] - 0s 2ms/step\n"
          ]
        }
      ]
    },
    {
      "cell_type": "code",
      "source": [
        "def logittolabel(val):\n",
        "    if val >= 0.5:\n",
        "        return 1\n",
        "    else:\n",
        "        return 0\n",
        "\n",
        "predictions = predictions_logits[0].map(lambda x: 1 if x>=0.5 else 0)"
      ],
      "metadata": {
        "id": "2EeinURLwPOa"
      },
      "execution_count": null,
      "outputs": []
    },
    {
      "cell_type": "code",
      "source": [
        "predictions"
      ],
      "metadata": {
        "colab": {
          "base_uri": "https://localhost:8080/"
        },
        "id": "DR1pFSExxTAd",
        "outputId": "8b6e5404-591a-4a83-9b55-f8f858716524"
      },
      "execution_count": null,
      "outputs": [
        {
          "output_type": "execute_result",
          "data": {
            "text/plain": [
              "0      1\n",
              "1      1\n",
              "2      1\n",
              "3      1\n",
              "4      1\n",
              "      ..\n",
              "362    1\n",
              "363    1\n",
              "364    1\n",
              "365    1\n",
              "366    1\n",
              "Name: 0, Length: 367, dtype: int64"
            ]
          },
          "metadata": {},
          "execution_count": 446
        }
      ]
    },
    {
      "cell_type": "code",
      "source": [
        "submission_data[\"Loan_Status\"] = le.inverse_transform(predictions.squeeze())"
      ],
      "metadata": {
        "id": "EaQxhIxxr7jn"
      },
      "execution_count": null,
      "outputs": []
    },
    {
      "cell_type": "code",
      "source": [
        "submission_data.to_csv(\"submit.csv\", index=False)"
      ],
      "metadata": {
        "id": "rFoSELWXv6sU"
      },
      "execution_count": null,
      "outputs": []
    },
    {
      "cell_type": "code",
      "source": [
        "def build_model(activation=\"elu\", \n",
        "                learning_rate=0.01, \n",
        "                kernel_regularizer=keras.regularizers.L1(0.01)):\n",
        "    model = Sequential()\n",
        "    model.add(layers.Dense(128,\n",
        "                        activation=activation,\n",
        "                        kernel_regularizer=kernel_regularizer))\n",
        "    model.add(layers.Dense(32, \n",
        "                        activation=activation,\n",
        "                        kernel_regularizer=kernel_regularizer))\n",
        "    model.add(layers.Dense(1))\n",
        "\n",
        "    model.compile(\n",
        "        optimizer=keras.optimizers.Adam(learning_rate=learning_rate),\n",
        "        loss=keras.losses.BinaryCrossentropy(from_logits=True),\n",
        "        metrics=[\"accuracy\", \"AUC\"]\n",
        "    )\n",
        "    return model"
      ],
      "metadata": {
        "id": "MiIOvcmD0xFf"
      },
      "execution_count": null,
      "outputs": []
    },
    {
      "cell_type": "code",
      "source": [
        "# from sklearn.experimental import enable_halving_search_cv\n",
        "# from sklearn.model_selection import HalvingRandomSearchCV\n",
        "# from tensorflow.keras.wrappers.scikit_learn import KerasClassifier\n",
        "# from scipy.stats import reciprocal\n",
        "\n",
        "\n",
        "# # Wrap the TensorFlow model within a scikit-learn compatible wrapper\n",
        "# wrapped_model = KerasClassifier(build_fn=build_model)\n",
        "\n",
        "# # Define the parameter grid for grid search\n",
        "# param_dist = {\n",
        "#     'learning_rate': reciprocal(0.001, 0.1),\n",
        "#     'kernel_regularizer': [keras.regularizers.L1(0.01), \n",
        "#                            keras.regularizers.L2(0.01)],\n",
        "#     'activation': [\"relu\", \"elu\"]\n",
        "# }\n",
        "\n",
        "# # Perform halving randomized search\n",
        "# halving_search = HalvingRandomSearchCV(estimator=wrapped_model, \n",
        "#                                        param_distributions=param_dist, \n",
        "#                                        factor=3, resource='n_samples', \n",
        "#                                        max_resources=100, cv=3, \n",
        "#                                        scoring='accuracy',\n",
        "#                                        verbose=0)\n",
        "# halving_search.fit(X_train, y_train)\n",
        "\n",
        "# # Access the best model and best hyperparameters\n",
        "# best_model = halving_search.best_estimator_\n",
        "# best_params = halving_search.best_params_\n"
      ],
      "metadata": {
        "id": "ujFhDKGXALpA"
      },
      "execution_count": null,
      "outputs": []
    },
    {
      "cell_type": "code",
      "source": [
        "import numpy as np\n",
        "import tensorflow as tf\n",
        "from sklearn.model_selection import KFold\n",
        "\n",
        "# Define the number of folds for cross-validation\n",
        "num_folds = 5\n",
        "\n",
        "# Initialize the KFold cross-validation object\n",
        "kfold = KFold(n_splits=num_folds, shuffle=True)\n",
        "\n",
        "val_loss_list = []\n",
        "history_list = []\n",
        "print(\"\\t\\t  Loss \\t Accuracy AUC\")\n",
        "# Iterate over the folds\n",
        "for train_index, val_index in kfold.split(X):\n",
        "    # Split the data into training and validation sets\n",
        "    X_train, X_val = X.iloc[train_index], X.iloc[val_index]\n",
        "    y_train, y_val = y[train_index], y[val_index]\n",
        "\n",
        "    # Build and compile your TensorFlow model\n",
        "    model = build_model()\n",
        "\n",
        "    # Train the model on the training data\n",
        "    history = model.fit(X_train, y_train, epochs=30, batch_size=32, verbose=0, validation_split=0.1)\n",
        "    history_list.append(history)\n",
        "\n",
        "    # Evaluate the model on the validation data\n",
        "    val_loss = model.evaluate(X_val, y_val, verbose=0)\n",
        "    val_loss_list.append(val_loss)\n",
        "\n",
        "    print(\"Validation loss:\", np.round(val_loss, 4))\n",
        "\n",
        "print(\"\\t \\t\", np.array(val_loss_list).mean(axis=0))"
      ],
      "metadata": {
        "colab": {
          "base_uri": "https://localhost:8080/"
        },
        "id": "bmmje6Qyxbg9",
        "outputId": "ce64cda9-c459-40b0-9863-0a29ec0c5a12"
      },
      "execution_count": null,
      "outputs": [
        {
          "output_type": "stream",
          "name": "stdout",
          "text": [
            "\t\t  Loss \t Accuracy AUC\n",
            "Validation loss: [0.613  0.7642 0.6518]\n",
            "Validation loss: [0.6894 0.7642 0.659 ]\n",
            "Validation loss: [0.7002 0.6829 0.5   ]\n",
            "Validation loss: [0.688  0.7724 0.7016]\n",
            "Validation loss: [0.5622 0.8361 0.8506]\n",
            "\t \t [0.6505568  0.76396108 0.67260814]\n"
          ]
        }
      ]
    },
    {
      "cell_type": "code",
      "source": [
        "model = build_model()\n",
        "model.fit(X, y, epochs=30, batch_size=32, verbose=0)"
      ],
      "metadata": {
        "colab": {
          "base_uri": "https://localhost:8080/"
        },
        "id": "IuWegGONzicU",
        "outputId": "29b05617-a921-42d4-d79c-6b65df6975a7"
      },
      "execution_count": null,
      "outputs": [
        {
          "output_type": "execute_result",
          "data": {
            "text/plain": [
              "<keras.callbacks.History at 0x7fe49031e440>"
            ]
          },
          "metadata": {},
          "execution_count": 443
        }
      ]
    },
    {
      "cell_type": "code",
      "source": [
        "0.60326581 0.78997735 0.72310948 30\n",
        "0.60075489 0.79634813 0.72717249 50\n"
      ],
      "metadata": {
        "id": "_pZgBuh32CZO"
      },
      "execution_count": null,
      "outputs": []
    }
  ]
}